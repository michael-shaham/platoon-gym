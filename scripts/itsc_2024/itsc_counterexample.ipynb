{
 "cells": [
  {
   "cell_type": "code",
   "execution_count": 1,
   "metadata": {},
   "outputs": [],
   "source": [
    "import gurobipy as gp\n",
    "import numpy as np"
   ]
  },
  {
   "cell_type": "code",
   "execution_count": 5,
   "metadata": {},
   "outputs": [
    {
     "name": "stdout",
     "output_type": "stream",
     "text": [
      "A1 eigvals: [3. 2.]\n",
      "A2 eigvals: [2. 1.]\n",
      "B eigvals:  [5. 3.]\n",
      "A1 + A2 - B eigvals: [0. 0.]\n"
     ]
    }
   ],
   "source": [
    "# A1 = np.array([[2, 1], [1, 2]])\n",
    "# print(f'A1 eigvals: {np.linalg.eigvals(A1)}')\n",
    "# A2 = np.array([[1.5, 1], [1, 1.5]])\n",
    "# print(f'A2 eigvals: {np.linalg.eigvals(A2)}')\n",
    "# B = np.array([[3.5, 2], [2, 3.5]])\n",
    "# print(f'B eigvals:  {np.linalg.eigvals(B)}')\n",
    "# print(f'A1 + A2 - B eigvals: {np.linalg.eigvals(A1 + A2 - B)}')\n",
    "\n",
    "A1 = np.array([[4, 0], [0, 3]])\n",
    "print(f'A1 eigvals: {np.linalg.eigvals(A1)}')\n",
    "A2 = np.array([[2, 0], [0, 1]])\n",
    "print(f'A2 eigvals: {np.linalg.eigvals(A2)}')\n",
    "B = np.array([[5, 0], [0, 3]])\n",
    "print(f'B eigvals:  {np.linalg.eigvals(B)}')\n",
    "print(f'A1 + A2 - B eigvals: {np.linalg.eigvals(A1 + A2 - B)}')"
   ]
  },
  {
   "cell_type": "code",
   "execution_count": 3,
   "metadata": {},
   "outputs": [
    {
     "name": "stdout",
     "output_type": "stream",
     "text": [
      "Set parameter Username\n",
      "Academic license - for non-commercial use only - expires 2025-01-02\n"
     ]
    }
   ],
   "source": [
    "m = gp.Model()\n",
    "z = m.addMVar((2,), lb=-1, ub=1)\n",
    "\n",
    "# constraints for sum of norms\n",
    "A1z = m.addMVar((2,))\n",
    "A2z = m.addMVar((2,))\n",
    "Bz = m.addMVar((2,))\n",
    "m.addConstr(A1z == A1 @ z)\n",
    "m.addConstr(A2z == A2 @ z)\n",
    "m.addConstr(Bz == B @ z)\n",
    "norm_A1z = m.addVar()\n",
    "norm_A2z = m.addVar()\n",
    "norm_Bz = m.addVar()\n",
    "m.addGenConstrNorm(norm_A1z, A1z, 2, \"FuncPieces=100000\")\n",
    "m.addGenConstrNorm(norm_A2z, A2z, 2, \"FuncPieces=100000\")\n",
    "m.addGenConstrNorm(norm_Bz, Bz, 2, \"FuncPieces=100000\")\n",
    "\n",
    "# solve opt problem\n",
    "# m.addConstr(norm_A1z + norm_A2z - norm_Bz >= 1e-3, \"FuncPieces=10000\")\n",
    "obj = norm_A1z + norm_A2z - norm_Bz\n",
    "m.setObjective(obj, sense=gp.GRB.MAXIMIZE)\n",
    "# m.setObjective(0.0)\n",
    "m.setParam('LogToConsole', 0)\n",
    "m.setParam('NonConvex', 2)\n",
    "m.setParam('FeasibilityTol', 1e-9)\n",
    "m.setParam('OptimalityTol', 1e-9)\n",
    "m.setParam('Presolve', 0)\n",
    "m.optimize()"
   ]
  },
  {
   "cell_type": "code",
   "execution_count": 4,
   "metadata": {},
   "outputs": [
    {
     "name": "stdout",
     "output_type": "stream",
     "text": [
      "model status: 2\n",
      "objective value: 0.010905635586355267\n",
      "optimal solution: [0.8295364 1.       ]\n",
      "objective values: 0.010905635586355267, 0.010905635525850776\n",
      "with z = [1. 1.], ||A1@z|| + ||A2@z|| - ||B@z|| = 0.010667358118478631\n"
     ]
    }
   ],
   "source": [
    "print(f'model status: {m.status}')\n",
    "\n",
    "print(f'objective value: {obj.getValue()}')\n",
    "print(f'optimal solution: {z.X}')\n",
    "obj1 = norm_A1z.X + norm_A2z.X - norm_Bz.X\n",
    "obj2 = np.linalg.norm(A1 @ z.X) + np.linalg.norm(A2 @ z.X) - np.linalg.norm(B @ z.X)\n",
    "print(f'objective values: {obj1}, {obj2}')\n",
    "\n",
    "z = np.ones(2)\n",
    "value = np.linalg.norm(A1 @ z) + np.linalg.norm(A2 @ z) - np.linalg.norm(B @ z)\n",
    "print(f'with z = {z}, ||A1@z|| + ||A2@z|| - ||B@z|| = {value}')"
   ]
  }
 ],
 "metadata": {
  "kernelspec": {
   "display_name": "Python 3",
   "language": "python",
   "name": "python3"
  },
  "language_info": {
   "codemirror_mode": {
    "name": "ipython",
    "version": 3
   },
   "file_extension": ".py",
   "mimetype": "text/x-python",
   "name": "python",
   "nbconvert_exporter": "python",
   "pygments_lexer": "ipython3",
   "version": "3.8.10"
  }
 },
 "nbformat": 4,
 "nbformat_minor": 2
}
